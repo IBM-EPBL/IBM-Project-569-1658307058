{
  "cells": [
    {
      "cell_type": "markdown",
      "metadata": {
        "id": "B1ZwL6BLjzEi"
      },
      "source": [
        "Assignment Date     : 23/10/2022 <br>\n",
        "Student Name        : Arjun V <br>\n",
        "Student Roll Number : 718020I461"
      ]
    },
    {
      "cell_type": "code",
      "execution_count": null,
      "metadata": {
        "id": "8otzoYtRsozc"
      },
      "outputs": [],
      "source": [
        "import nltk\n",
        "import numpy as np\n",
        "import pandas as pd\n",
        "import matplotlib.pyplot as plt\n",
        "from sklearn.naive_bayes import MultinomialNB\n",
        "from sklearn.model_selection import train_test_split\n",
        "from nltk.corpus import stopwords\n",
        "from nltk.stem import PorterStemmer,WordNetLemmatizer\n",
        "from nltk.tokenize import word_tokenize\n",
        "import sklearn.metrics as m\n",
        "import pickle"
      ]
    },
    {
      "cell_type": "code",
      "execution_count": null,
      "metadata": {
        "id": "UKl9uNGmtG3t"
      },
      "outputs": [],
      "source": [
        "df = pd.read_csv(\"/content/spam.csv\",encoding = \"ISO-8859-1\")\n"
      ]
    },
    {
      "cell_type": "code",
      "execution_count": null,
      "metadata": {
        "colab": {
          "base_uri": "https://localhost:8080/"
        },
        "id": "8aPajPqkIiTf",
        "outputId": "037054da-83da-4099-ec21-a3effa4c4079"
      },
      "outputs": [
        {
          "name": "stderr",
          "output_type": "stream",
          "text": [
            "[nltk_data] Downloading package punkt to /root/nltk_data...\n",
            "[nltk_data]   Unzipping tokenizers/punkt.zip.\n",
            "[nltk_data] Downloading package stopwords to /root/nltk_data...\n",
            "[nltk_data]   Unzipping corpora/stopwords.zip.\n",
            "[nltk_data] Downloading package wordnet to /root/nltk_data...\n",
            "[nltk_data] Downloading package omw-1.4 to /root/nltk_data...\n"
          ]
        },
        {
          "data": {
            "text/plain": [
              "True"
            ]
          },
          "execution_count": 19,
          "metadata": {},
          "output_type": "execute_result"
        }
      ],
      "source": [
        "nltk.download('punkt')\n",
        "nltk.download('stopwords')\n",
        "nltk.download('wordnet')\n",
        "nltk.download('omw-1.4')"
      ]
    },
    {
      "cell_type": "code",
      "execution_count": null,
      "metadata": {
        "colab": {
          "base_uri": "https://localhost:8080/"
        },
        "id": "HkJUQbXQ4Gmq",
        "outputId": "a27b83a3-c2ba-4bf4-87bf-b6794c0d2c4f"
      },
      "outputs": [
        {
          "data": {
            "text/plain": [
              "0        ham\n",
              "1        ham\n",
              "2       spam\n",
              "3        ham\n",
              "4        ham\n",
              "        ... \n",
              "5567    spam\n",
              "5568     ham\n",
              "5569     ham\n",
              "5570     ham\n",
              "5571     ham\n",
              "Name: v1, Length: 5572, dtype: object"
            ]
          },
          "execution_count": 20,
          "metadata": {},
          "output_type": "execute_result"
        }
      ],
      "source": [
        "labels=df.iloc[:,[0]]['v1']\n",
        "labels"
      ]
    },
    {
      "cell_type": "code",
      "execution_count": null,
      "metadata": {
        "colab": {
          "base_uri": "https://localhost:8080/"
        },
        "id": "3k8pW18B4Qeg",
        "outputId": "8ead9001-fad5-493e-8d19-1d74dbe27adc"
      },
      "outputs": [
        {
          "data": {
            "text/plain": [
              "array([0, 0, 1, ..., 0, 0, 0])"
            ]
          },
          "execution_count": 21,
          "metadata": {},
          "output_type": "execute_result"
        }
      ],
      "source": [
        "from sklearn.preprocessing import LabelEncoder\n",
        "le=LabelEncoder()\n",
        "labels=le.fit_transform(labels)\n",
        "labels"
      ]
    },
    {
      "cell_type": "code",
      "execution_count": null,
      "metadata": {
        "colab": {
          "base_uri": "https://localhost:8080/"
        },
        "id": "rNzvmihW4nZd",
        "outputId": "c06a8d60-6f86-4d9e-935b-8927bb66c3a9"
      },
      "outputs": [
        {
          "data": {
            "text/plain": [
              "array([[1., 0.],\n",
              "       [1., 0.],\n",
              "       [0., 1.],\n",
              "       ...,\n",
              "       [1., 0.],\n",
              "       [1., 0.],\n",
              "       [1., 0.]], dtype=float32)"
            ]
          },
          "execution_count": 22,
          "metadata": {},
          "output_type": "execute_result"
        }
      ],
      "source": [
        "from keras.utils.np_utils import to_categorical\n",
        "labels=to_categorical(labels)\n",
        "labels"
      ]
    },
    {
      "cell_type": "code",
      "execution_count": null,
      "metadata": {
        "colab": {
          "base_uri": "https://localhost:8080/"
        },
        "id": "uv1dyCS93_Fs",
        "outputId": "e167e2a6-f5eb-435c-d58d-f111a6287502"
      },
      "outputs": [
        {
          "data": {
            "text/plain": [
              "0       Go until jurong point, crazy.. Available only ...\n",
              "1                           Ok lar... Joking wif u oni...\n",
              "2       Free entry in 2 a wkly comp to win FA Cup fina...\n",
              "3       U dun say so early hor... U c already then say...\n",
              "4       Nah I don't think he goes to usf, he lives aro...\n",
              "                              ...                        \n",
              "5567    This is the 2nd time we have tried 2 contact u...\n",
              "5568                Will Ì_ b going to esplanade fr home?\n",
              "5569    Pity, * was in mood for that. So...any other s...\n",
              "5570    The guy did some bitching but I acted like i'd...\n",
              "5571                           Rofl. Its true to its name\n",
              "Name: v2, Length: 5572, dtype: object"
            ]
          },
          "execution_count": 23,
          "metadata": {},
          "output_type": "execute_result"
        }
      ],
      "source": [
        "sent=df.iloc[:,[1]]['v2']\n",
        "sent"
      ]
    },
    {
      "cell_type": "code",
      "execution_count": null,
      "metadata": {
        "id": "zqdoyDvH4xT4"
      },
      "outputs": [],
      "source": [
        "import re\n",
        "lemma=WordNetLemmatizer()\n",
        "sentences=[]\n",
        "for j in range(0,len(sent)):\n",
        "  s=re.sub('[^A-Za-z]',' ',sent[j])\n",
        "  s=s.lower()\n",
        "  words=word_tokenize(s)\n",
        "  words=[lemma.lemmatize(i) for i in words if i not in stopwords.words('english')]\n",
        "  s=' '.join(words)\n",
        "  sentences.append(s)"
      ]
    },
    {
      "cell_type": "code",
      "execution_count": null,
      "metadata": {
        "colab": {
          "base_uri": "https://localhost:8080/"
        },
        "id": "EzOepU2c5nZq",
        "outputId": "b6191b5d-9921-4a6e-88e4-b77bad1102f4"
      },
      "outputs": [
        {
          "data": {
            "text/plain": [
              "['go jurong point crazy available bugis n great world la e buffet cine got amore wat',\n",
              " 'ok lar joking wif u oni',\n",
              " 'free entry wkly comp win fa cup final tkts st may text fa receive entry question std txt rate c apply',\n",
              " 'u dun say early hor u c already say',\n",
              " 'nah think go usf life around though']"
            ]
          },
          "execution_count": 25,
          "metadata": {},
          "output_type": "execute_result"
        }
      ],
      "source": [
        "sentences[:5]"
      ]
    },
    {
      "cell_type": "code",
      "execution_count": null,
      "metadata": {
        "colab": {
          "base_uri": "https://localhost:8080/"
        },
        "id": "45JhyQEF5wiq",
        "outputId": "de9c8d4c-f77f-483e-c37a-0464a39bef6e"
      },
      "outputs": [
        {
          "data": {
            "text/plain": [
              "77"
            ]
          },
          "execution_count": 26,
          "metadata": {},
          "output_type": "execute_result"
        }
      ],
      "source": [
        "from keras.preprocessing.text import one_hot\n",
        "one_hot_sent=[one_hot(i,10000) for i in sentences]\n",
        "maxi=[len(i) for i in one_hot_sent]\n",
        "max(maxi)"
      ]
    },
    {
      "cell_type": "code",
      "execution_count": null,
      "metadata": {
        "colab": {
          "base_uri": "https://localhost:8080/"
        },
        "id": "Vhu4ZR9i6OQt",
        "outputId": "ce21dfe3-e4a1-43f7-d3b5-9134a050a157"
      },
      "outputs": [
        {
          "data": {
            "text/plain": [
              "array([[   0,    0,    0, ..., 9338, 8026, 7320],\n",
              "       [   0,    0,    0, ..., 2433, 6432,  369],\n",
              "       [   0,    0,    0, ..., 7693, 5968, 9889],\n",
              "       ...,\n",
              "       [   0,    0,    0, ..., 7928, 1873, 6448],\n",
              "       [   0,    0,    0, ..., 9275, 6432, 2416],\n",
              "       [   0,    0,    0, ..., 9261, 2684, 7430]], dtype=int32)"
            ]
          },
          "execution_count": 27,
          "metadata": {},
          "output_type": "execute_result"
        }
      ],
      "source": [
        "from keras_preprocessing.sequence import pad_sequences\n",
        "padsequences=pad_sequences(one_hot_sent,maxlen=80)\n",
        "padsequences"
      ]
    },
    {
      "cell_type": "code",
      "execution_count": null,
      "metadata": {
        "id": "zSybIRgR6rHS"
      },
      "outputs": [],
      "source": [
        "feature_train,feature_test,label_train,label_test=train_test_split(padsequences,labels,test_size=0.2,random_state=7)"
      ]
    },
    {
      "cell_type": "code",
      "execution_count": null,
      "metadata": {
        "id": "WUeSmr0B6uFu"
      },
      "outputs": [],
      "source": [
        "from keras.models import Sequential\n",
        "from keras.layers import Embedding,LSTM,Dense,Dropout,Flatten\n",
        "model=Sequential()\n",
        "model.add(Embedding(10000,64,input_length=80))\n",
        "model.add(LSTM(100))\n",
        "model.add(Dense(2,activation='sigmoid'))\n",
        "model.compile(loss='binary_crossentropy',metrics=['accuracy'],optimizer='adam')"
      ]
    },
    {
      "cell_type": "code",
      "execution_count": null,
      "metadata": {
        "colab": {
          "base_uri": "https://localhost:8080/"
        },
        "id": "x5WHAaDy6y2V",
        "outputId": "c12a99ba-e01f-45e6-923e-b8b090b2b25f"
      },
      "outputs": [
        {
          "name": "stdout",
          "output_type": "stream",
          "text": [
            "Model: \"sequential\"\n",
            "_________________________________________________________________\n",
            " Layer (type)                Output Shape              Param #   \n",
            "=================================================================\n",
            " embedding (Embedding)       (None, 80, 64)            640000    \n",
            "                                                                 \n",
            " lstm (LSTM)                 (None, 100)               66000     \n",
            "                                                                 \n",
            " dense (Dense)               (None, 2)                 202       \n",
            "                                                                 \n",
            "=================================================================\n",
            "Total params: 706,202\n",
            "Trainable params: 706,202\n",
            "Non-trainable params: 0\n",
            "_________________________________________________________________\n"
          ]
        }
      ],
      "source": [
        "model.summary()"
      ]
    },
    {
      "cell_type": "code",
      "execution_count": null,
      "metadata": {
        "colab": {
          "base_uri": "https://localhost:8080/"
        },
        "id": "NKRz3rKv62MX",
        "outputId": "5d8036f0-7a42-4dba-e28b-d6d297611177"
      },
      "outputs": [
        {
          "name": "stdout",
          "output_type": "stream",
          "text": [
            "Epoch 1/20\n",
            "140/140 [==============================] - 14s 83ms/step - loss: 0.2238 - accuracy: 0.9291 - val_loss: 0.0540 - val_accuracy: 0.9839\n",
            "Epoch 2/20\n",
            "140/140 [==============================] - 10s 72ms/step - loss: 0.0404 - accuracy: 0.9890 - val_loss: 0.0477 - val_accuracy: 0.9821\n",
            "Epoch 3/20\n",
            "140/140 [==============================] - 10s 72ms/step - loss: 0.0190 - accuracy: 0.9951 - val_loss: 0.0412 - val_accuracy: 0.9865\n",
            "Epoch 4/20\n",
            "140/140 [==============================] - 10s 73ms/step - loss: 0.0102 - accuracy: 0.9978 - val_loss: 0.0553 - val_accuracy: 0.9857\n",
            "Epoch 5/20\n",
            "140/140 [==============================] - 11s 76ms/step - loss: 0.0063 - accuracy: 0.9987 - val_loss: 0.0434 - val_accuracy: 0.9839\n",
            "Epoch 6/20\n",
            "140/140 [==============================] - 11s 81ms/step - loss: 0.0031 - accuracy: 0.9991 - val_loss: 0.0543 - val_accuracy: 0.9848\n",
            "Epoch 7/20\n",
            "140/140 [==============================] - 10s 72ms/step - loss: 0.0023 - accuracy: 0.9996 - val_loss: 0.0517 - val_accuracy: 0.9821\n",
            "Epoch 8/20\n",
            "140/140 [==============================] - 10s 72ms/step - loss: 0.0012 - accuracy: 0.9998 - val_loss: 0.0584 - val_accuracy: 0.9821\n",
            "Epoch 9/20\n",
            "140/140 [==============================] - 11s 80ms/step - loss: 6.4831e-04 - accuracy: 0.9998 - val_loss: 0.0652 - val_accuracy: 0.9812\n",
            "Epoch 10/20\n",
            "140/140 [==============================] - 10s 72ms/step - loss: 3.5215e-04 - accuracy: 1.0000 - val_loss: 0.0741 - val_accuracy: 0.9821\n",
            "Epoch 11/20\n",
            "140/140 [==============================] - 10s 72ms/step - loss: 2.0913e-04 - accuracy: 1.0000 - val_loss: 0.0635 - val_accuracy: 0.9812\n",
            "Epoch 12/20\n",
            "140/140 [==============================] - 10s 72ms/step - loss: 1.6251e-04 - accuracy: 1.0000 - val_loss: 0.0816 - val_accuracy: 0.9794\n",
            "Epoch 13/20\n",
            "140/140 [==============================] - 10s 72ms/step - loss: 0.0031 - accuracy: 0.9989 - val_loss: 0.0671 - val_accuracy: 0.9830\n",
            "Epoch 14/20\n",
            "140/140 [==============================] - 10s 72ms/step - loss: 4.4686e-04 - accuracy: 0.9998 - val_loss: 0.0706 - val_accuracy: 0.9794\n",
            "Epoch 15/20\n",
            "140/140 [==============================] - 10s 72ms/step - loss: 2.4009e-04 - accuracy: 1.0000 - val_loss: 0.0708 - val_accuracy: 0.9830\n",
            "Epoch 16/20\n",
            "140/140 [==============================] - 10s 73ms/step - loss: 1.1772e-04 - accuracy: 1.0000 - val_loss: 0.0735 - val_accuracy: 0.9821\n",
            "Epoch 17/20\n",
            "140/140 [==============================] - 10s 72ms/step - loss: 8.4407e-05 - accuracy: 1.0000 - val_loss: 0.0765 - val_accuracy: 0.9830\n",
            "Epoch 18/20\n",
            "140/140 [==============================] - 10s 72ms/step - loss: 6.6786e-05 - accuracy: 1.0000 - val_loss: 0.0789 - val_accuracy: 0.9830\n",
            "Epoch 19/20\n",
            "140/140 [==============================] - 10s 73ms/step - loss: 5.5369e-05 - accuracy: 1.0000 - val_loss: 0.0811 - val_accuracy: 0.9839\n",
            "Epoch 20/20\n",
            "140/140 [==============================] - 10s 73ms/step - loss: 4.6666e-05 - accuracy: 1.0000 - val_loss: 0.0832 - val_accuracy: 0.9839\n"
          ]
        },
        {
          "data": {
            "text/plain": [
              "<keras.callbacks.History at 0x7f3c23bd5650>"
            ]
          },
          "execution_count": 31,
          "metadata": {},
          "output_type": "execute_result"
        }
      ],
      "source": [
        "model.fit(feature_train,label_train,epochs=20,validation_data=(feature_test,label_test))"
      ]
    },
    {
      "cell_type": "code",
      "execution_count": null,
      "metadata": {
        "colab": {
          "base_uri": "https://localhost:8080/"
        },
        "id": "y8ge2z0K7WTx",
        "outputId": "3a944f79-d338-4fb3-998a-a417a1d41563"
      },
      "outputs": [
        {
          "name": "stdout",
          "output_type": "stream",
          "text": [
            "35/35 [==============================] - 1s 18ms/step\n"
          ]
        },
        {
          "data": {
            "text/plain": [
              "array([[9.9999434e-01, 5.9298582e-06],\n",
              "       [5.9033591e-02, 9.3361908e-01],\n",
              "       [9.9999672e-01, 3.5057626e-06],\n",
              "       ...,\n",
              "       [9.9997944e-01, 2.1895197e-05],\n",
              "       [9.9998975e-01, 1.1403711e-05],\n",
              "       [9.9999654e-01, 3.7449838e-06]], dtype=float32)"
            ]
          },
          "execution_count": 32,
          "metadata": {},
          "output_type": "execute_result"
        }
      ],
      "source": [
        "label_pred=model.predict(feature_test)\n",
        "label_pred"
      ]
    },
    {
      "cell_type": "code",
      "execution_count": null,
      "metadata": {
        "colab": {
          "base_uri": "https://localhost:8080/"
        },
        "id": "CWvQfk0Z7Zv0",
        "outputId": "198a06e8-b813-4ebe-c4b7-a2ecc7db430d"
      },
      "outputs": [
        {
          "data": {
            "text/plain": [
              "[0, 1, 0, 0, 0]"
            ]
          },
          "execution_count": 33,
          "metadata": {},
          "output_type": "execute_result"
        }
      ],
      "source": [
        "label_pred_=[np.argmax(i,axis=0) for i in label_pred]\n",
        "label_pred_[0:5]"
      ]
    },
    {
      "cell_type": "code",
      "execution_count": null,
      "metadata": {
        "colab": {
          "base_uri": "https://localhost:8080/"
        },
        "id": "9xuA2QTs7g7s",
        "outputId": "717df0ef-8944-491c-d059-bd0b58ed6282"
      },
      "outputs": [
        {
          "data": {
            "text/plain": [
              "[0, 0, 0, 0, 0]"
            ]
          },
          "execution_count": 34,
          "metadata": {},
          "output_type": "execute_result"
        }
      ],
      "source": [
        "label_test_=[np.argmax(i,axis=0) for i in label_test]\n",
        "label_test_[0:5]"
      ]
    },
    {
      "cell_type": "code",
      "execution_count": null,
      "metadata": {
        "colab": {
          "base_uri": "https://localhost:8080/"
        },
        "id": "59LScPiS7kWz",
        "outputId": "159a5d87-1ddf-46e4-a36e-0d3f3aae2adc"
      },
      "outputs": [
        {
          "data": {
            "text/plain": [
              "0.9838565022421525"
            ]
          },
          "execution_count": 35,
          "metadata": {},
          "output_type": "execute_result"
        }
      ],
      "source": [
        "m.accuracy_score(label_test_,label_pred_)"
      ]
    },
    {
      "cell_type": "code",
      "execution_count": null,
      "metadata": {
        "colab": {
          "base_uri": "https://localhost:8080/"
        },
        "id": "knkhaShC7nNg",
        "outputId": "78cd79fd-a694-4a12-c512-4b42fcd9b264"
      },
      "outputs": [
        {
          "name": "stdout",
          "output_type": "stream",
          "text": [
            "              precision    recall  f1-score   support\n",
            "\n",
            "           0       0.99      0.99      0.99       970\n",
            "           1       0.94      0.93      0.94       145\n",
            "\n",
            "    accuracy                           0.98      1115\n",
            "   macro avg       0.97      0.96      0.96      1115\n",
            "weighted avg       0.98      0.98      0.98      1115\n",
            "\n"
          ]
        }
      ],
      "source": [
        "print(m.classification_report(label_test_,label_pred_))"
      ]
    },
    {
      "cell_type": "code",
      "execution_count": null,
      "metadata": {
        "colab": {
          "base_uri": "https://localhost:8080/"
        },
        "id": "7zukqFsY7q4s",
        "outputId": "c10d37bd-ddd6-4dd1-b582-bc0ad333fe37"
      },
      "outputs": [
        {
          "name": "stdout",
          "output_type": "stream",
          "text": [
            "[[962   8]\n",
            " [ 10 135]]\n"
          ]
        }
      ],
      "source": [
        "print(m.confusion_matrix(label_test_,label_pred_))"
      ]
    },
    {
      "cell_type": "code",
      "execution_count": null,
      "metadata": {
        "colab": {
          "base_uri": "https://localhost:8080/"
        },
        "id": "XYzoAVH4OVIa",
        "outputId": "83d8ca2f-8473-4d46-d43f-56b5d11d4ef7"
      },
      "outputs": [
        {
          "name": "stderr",
          "output_type": "stream",
          "text": [
            "WARNING:absl:Found untraced functions such as lstm_cell_layer_call_fn, lstm_cell_layer_call_and_return_conditional_losses while saving (showing 2 of 2). These functions will not be directly callable after loading.\n"
          ]
        }
      ],
      "source": [
        "pickle.dump(model, open('model.pkl', 'wb'))"
      ]
    },
    {
      "cell_type": "code",
      "execution_count": null,
      "metadata": {
        "id": "N8NZM2lgPk-y"
      },
      "outputs": [],
      "source": [
        "model.predict()"
      ]
    }
  ],
  "metadata": {
    "colab": {
      "collapsed_sections": [],
      "provenance": []
    },
    "kernelspec": {
      "display_name": "Python 3",
      "name": "python3"
    },
    "language_info": {
      "name": "python"
    }
  },
  "nbformat": 4,
  "nbformat_minor": 0
}
