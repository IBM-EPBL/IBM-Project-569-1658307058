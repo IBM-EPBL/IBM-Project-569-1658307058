{
 "cells": [
  {
   "cell_type": "markdown",
   "id": "94be7ae4",
   "metadata": {},
   "source": [
    "Assignment Date - 03/10/2022<br>\n",
    "Student Name - Ranjith Kumar T<br>\n",
    "Student Roll Number - 718019I340"
   ]
  },
  {
   "cell_type": "code",
   "execution_count": 1,
   "id": "b5c86fd3",
   "metadata": {},
   "outputs": [
    {
     "name": "stderr",
     "output_type": "stream",
     "text": [
      "2022-10-10 19:00:06.462559: I tensorflow/core/platform/cpu_feature_guard.cc:193] This TensorFlow binary is optimized with oneAPI Deep Neural Network Library (oneDNN) to use the following CPU instructions in performance-critical operations:  AVX2 AVX512F AVX512_VNNI FMA\n",
      "To enable them in other operations, rebuild TensorFlow with the appropriate compiler flags.\n",
      "2022-10-10 19:00:06.581965: I tensorflow/core/util/util.cc:169] oneDNN custom operations are on. You may see slightly different numerical results due to floating-point round-off errors from different computation orders. To turn them off, set the environment variable `TF_ENABLE_ONEDNN_OPTS=0`.\n",
      "2022-10-10 19:00:06.586634: W tensorflow/stream_executor/platform/default/dso_loader.cc:64] Could not load dynamic library 'libcudart.so.11.0'; dlerror: libcudart.so.11.0: cannot open shared object file: No such file or directory; LD_LIBRARY_PATH: /home/cavsr/.local/lib/python3.8/site-packages/cv2/../../lib64:\n",
      "2022-10-10 19:00:06.586650: I tensorflow/stream_executor/cuda/cudart_stub.cc:29] Ignore above cudart dlerror if you do not have a GPU set up on your machine.\n",
      "2022-10-10 19:00:06.610760: E tensorflow/stream_executor/cuda/cuda_blas.cc:2981] Unable to register cuBLAS factory: Attempting to register factory for plugin cuBLAS when one has already been registered\n",
      "2022-10-10 19:00:07.186249: W tensorflow/stream_executor/platform/default/dso_loader.cc:64] Could not load dynamic library 'libnvinfer.so.7'; dlerror: libnvinfer.so.7: cannot open shared object file: No such file or directory; LD_LIBRARY_PATH: /home/cavsr/.local/lib/python3.8/site-packages/cv2/../../lib64:\n",
      "2022-10-10 19:00:07.186335: W tensorflow/stream_executor/platform/default/dso_loader.cc:64] Could not load dynamic library 'libnvinfer_plugin.so.7'; dlerror: libnvinfer_plugin.so.7: cannot open shared object file: No such file or directory; LD_LIBRARY_PATH: /home/cavsr/.local/lib/python3.8/site-packages/cv2/../../lib64:\n",
      "2022-10-10 19:00:07.186346: W tensorflow/compiler/tf2tensorrt/utils/py_utils.cc:38] TF-TRT Warning: Cannot dlopen some TensorRT libraries. If you would like to use Nvidia GPU with TensorRT, please make sure the missing libraries mentioned above are installed properly.\n"
     ]
    }
   ],
   "source": [
    "import os \n",
    "import cv2\n",
    "import numpy as np\n",
    "from sklearn.model_selection import *\n",
    "import keras\n",
    "from keras.models import Sequential\n",
    "from keras.layers import Dense, Activation, Dropout, Flatten\n",
    "from keras.layers import Conv2D\n",
    "from keras.layers import MaxPooling2D,MaxPool2D\n",
    "from keras.optimizers import Adam\n",
    "from tensorflow.keras.layers import Normalization\n",
    "from tensorflow.keras.layers import LeakyReLU\n",
    "from tensorflow.keras.layers import Conv2D, MaxPooling2D, GlobalMaxPooling2D\n",
    "import matplotlib.pyplot as plt\n",
    "os.environ['TF_CPP_MIN_LOG_LEVEL'] = '3' "
   ]
  },
  {
   "cell_type": "code",
   "execution_count": 2,
   "id": "0eb38310",
   "metadata": {},
   "outputs": [],
   "source": [
    "images = []\n",
    "labels = []\n",
    "trial = []"
   ]
  },
  {
   "cell_type": "code",
   "execution_count": 3,
   "id": "92f14499",
   "metadata": {},
   "outputs": [],
   "source": [
    "for img in os.listdir('/home/cavsr/arjun/AI 3/flowers/daisy/') :\n",
    "    label = 0\n",
    "    path = os.path.join('/home/cavsr/arjun/AI 3/flowers/daisy/', img)\n",
    "    img = cv2.imread(path, cv2.IMREAD_COLOR)\n",
    "    img = cv2.resize(img, (150, 150))\n",
    "    aug_img = cv2.flip(img,1)\n",
    "    images.append(np.array(img))\n",
    "    images.append(np.array(aug_img))\n",
    "    labels.append(str(label))\n",
    "    labels.append(str(label))"
   ]
  },
  {
   "cell_type": "code",
   "execution_count": 4,
   "id": "4fd6c31a",
   "metadata": {},
   "outputs": [],
   "source": [
    "for img in os.listdir('/home/cavsr/arjun/AI 3/flowers/dandelion/') :\n",
    "    label = 1\n",
    "    path = os.path.join('/home/cavsr/arjun/AI 3/flowers/dandelion/', img)\n",
    "    img = cv2.imread(path, cv2.IMREAD_COLOR)\n",
    "    img = cv2.resize(img, (150, 150))\n",
    "    aug_img = cv2.flip(img,1)\n",
    "    images.append(np.array(img))\n",
    "    images.append(np.array(aug_img))\n",
    "    labels.append(str(label))\n",
    "    labels.append(str(label))"
   ]
  },
  {
   "cell_type": "code",
   "execution_count": 5,
   "id": "42854dff",
   "metadata": {},
   "outputs": [],
   "source": [
    "for img in os.listdir('/home/cavsr/arjun/AI 3/flowers/rose/') :\n",
    "    label = 2\n",
    "    path = os.path.join('/home/cavsr/arjun/AI 3/flowers/rose/', img)\n",
    "    img = cv2.imread(path, cv2.IMREAD_COLOR)\n",
    "    img = cv2.resize(img, (150, 150))\n",
    "    aug_img = cv2.flip(img,1)\n",
    "    images.append(np.array(img))\n",
    "    images.append(np.array(aug_img))\n",
    "    labels.append(str(label))\n",
    "    labels.append(str(label))"
   ]
  },
  {
   "cell_type": "code",
   "execution_count": 6,
   "id": "2237ed54",
   "metadata": {},
   "outputs": [],
   "source": [
    "for img in os.listdir('/home/cavsr/arjun/AI 3/flowers/sunflower/') :\n",
    "    label = 3\n",
    "    path = os.path.join('/home/cavsr/arjun/AI 3/flowers/sunflower/', img)\n",
    "    img = cv2.imread(path, cv2.IMREAD_COLOR)\n",
    "    img = cv2.resize(img, (150, 150))\n",
    "    aug_img = cv2.flip(img,1)\n",
    "    images.append(np.array(img))\n",
    "    images.append(np.array(aug_img))\n",
    "    labels.append(str(label))\n",
    "    labels.append(str(label))"
   ]
  },
  {
   "cell_type": "code",
   "execution_count": 7,
   "id": "abcbfe9a",
   "metadata": {},
   "outputs": [],
   "source": [
    "for img in os.listdir('/home/cavsr/arjun/AI 3/flowers/tulip/') :\n",
    "    label = 4\n",
    "    path = os.path.join('/home/cavsr/arjun/AI 3/flowers/tulip/', img)\n",
    "    img = cv2.imread(path, cv2.IMREAD_COLOR)\n",
    "    img = cv2.resize(img, (150, 150))\n",
    "    aug_img = cv2.flip(img,1)\n",
    "    images.append(np.array(img))\n",
    "    images.append(np.array(aug_img))\n",
    "    labels.append(str(label))\n",
    "    labels.append(str(label))"
   ]
  },
  {
   "cell_type": "code",
   "execution_count": 8,
   "id": "c8cacbde",
   "metadata": {},
   "outputs": [
    {
     "name": "stdout",
     "output_type": "stream",
     "text": [
      "8634\n",
      "8634\n"
     ]
    }
   ],
   "source": [
    "print(len(images))\n",
    "print(len(labels))\n",
    "images = np.array(images)"
   ]
  },
  {
   "cell_type": "code",
   "execution_count": 9,
   "id": "557855b8",
   "metadata": {},
   "outputs": [
    {
     "data": {
      "text/plain": [
       "array([[1., 0., 0., 0., 0.],\n",
       "       [1., 0., 0., 0., 0.],\n",
       "       [1., 0., 0., 0., 0.],\n",
       "       ...,\n",
       "       [0., 0., 0., 0., 1.],\n",
       "       [0., 0., 0., 0., 1.],\n",
       "       [0., 0., 0., 0., 1.]], dtype=float32)"
      ]
     },
     "execution_count": 9,
     "metadata": {},
     "output_type": "execute_result"
    }
   ],
   "source": [
    "labels = keras.utils.to_categorical(labels,num_classes = 5)\n",
    "labels"
   ]
  },
  {
   "cell_type": "code",
   "execution_count": 10,
   "id": "71737da5",
   "metadata": {},
   "outputs": [],
   "source": [
    "X_train,X_test,Y_train,Y_test = train_test_split(images,labels,test_size = 0.3,random_state = 42)\n",
    "X_train,X_val,Y_train,Y_val = train_test_split(X_train,Y_train,test_size = 0.3,random_state = 42)"
   ]
  },
  {
   "cell_type": "code",
   "execution_count": 12,
   "id": "0b971679",
   "metadata": {},
   "outputs": [],
   "source": [
    "model = Sequential()\n",
    "model.add(Conv2D(128, (3, 3), input_shape=X_train.shape[1:]))\n",
    "model.add(LeakyReLU(alpha=0.02))\n",
    "model.add(MaxPooling2D(pool_size=(2, 2)))\n",
    "model.add(Dropout(0.25))\n",
    "model.add(Conv2D(128, (3, 3)))\n",
    "model.add(LeakyReLU(alpha=0.02))\n",
    "model.add(MaxPooling2D(pool_size=(2, 2)))\n",
    "model.add(Dropout(0.25))\n",
    "model.add(GlobalMaxPooling2D())   \n",
    "model.add(Dense(512))\n",
    "model.add(LeakyReLU(alpha=0.02))\n",
    "model.add(Dropout(0.5)) \n",
    "model.add(Dense(5))\n",
    "model.add(Activation('softmax'))"
   ]
  },
  {
   "cell_type": "code",
   "execution_count": 13,
   "id": "57f24e0e",
   "metadata": {},
   "outputs": [],
   "source": [
    "model.compile(loss='categorical_crossentropy', optimizer='adam', metrics=['accuracy'])"
   ]
  },
  {
   "cell_type": "code",
   "execution_count": 14,
   "id": "ddce3c8b",
   "metadata": {},
   "outputs": [
    {
     "name": "stdout",
     "output_type": "stream",
     "text": [
      "Epoch 1/25\n",
      "133/133 [==============================] - 103s 768ms/step - loss: 7.3830 - accuracy: 0.4045 - val_loss: 1.1739 - val_accuracy: 0.5405\n",
      "Epoch 2/25\n",
      "133/133 [==============================] - 100s 751ms/step - loss: 1.1214 - accuracy: 0.5605 - val_loss: 1.0504 - val_accuracy: 0.5913\n",
      "Epoch 3/25\n",
      "133/133 [==============================] - 101s 761ms/step - loss: 1.0114 - accuracy: 0.5965 - val_loss: 1.0820 - val_accuracy: 0.5687\n",
      "Epoch 4/25\n",
      "133/133 [==============================] - 101s 759ms/step - loss: 0.9755 - accuracy: 0.6135 - val_loss: 0.9769 - val_accuracy: 0.6299\n",
      "Epoch 5/25\n",
      "133/133 [==============================] - 101s 762ms/step - loss: 0.9212 - accuracy: 0.6416 - val_loss: 0.9297 - val_accuracy: 0.6448\n",
      "Epoch 6/25\n",
      "133/133 [==============================] - 100s 756ms/step - loss: 0.8748 - accuracy: 0.6681 - val_loss: 0.9204 - val_accuracy: 0.6503\n",
      "Epoch 7/25\n",
      "133/133 [==============================] - 99s 742ms/step - loss: 0.8560 - accuracy: 0.6648 - val_loss: 0.9211 - val_accuracy: 0.6630\n",
      "Epoch 8/25\n",
      "133/133 [==============================] - 99s 742ms/step - loss: 0.8264 - accuracy: 0.6846 - val_loss: 0.8977 - val_accuracy: 0.6547\n",
      "Epoch 9/25\n",
      "133/133 [==============================] - 99s 744ms/step - loss: 0.8112 - accuracy: 0.6965 - val_loss: 0.8416 - val_accuracy: 0.6889\n",
      "Epoch 10/25\n",
      "133/133 [==============================] - 100s 752ms/step - loss: 0.7784 - accuracy: 0.7014 - val_loss: 0.8150 - val_accuracy: 0.6917\n",
      "Epoch 11/25\n",
      "133/133 [==============================] - 99s 744ms/step - loss: 0.7454 - accuracy: 0.7095 - val_loss: 0.7841 - val_accuracy: 0.7033\n",
      "Epoch 12/25\n",
      "133/133 [==============================] - 100s 750ms/step - loss: 0.7615 - accuracy: 0.7097 - val_loss: 0.9291 - val_accuracy: 0.6635\n",
      "Epoch 13/25\n",
      "133/133 [==============================] - 99s 746ms/step - loss: 0.7536 - accuracy: 0.7139 - val_loss: 0.8203 - val_accuracy: 0.7027\n",
      "Epoch 14/25\n",
      "133/133 [==============================] - 99s 744ms/step - loss: 0.7049 - accuracy: 0.7378 - val_loss: 0.9093 - val_accuracy: 0.6663\n",
      "Epoch 15/25\n",
      "133/133 [==============================] - 99s 744ms/step - loss: 0.7211 - accuracy: 0.7291 - val_loss: 0.7699 - val_accuracy: 0.7121\n",
      "Epoch 16/25\n",
      "133/133 [==============================] - 99s 745ms/step - loss: 0.6961 - accuracy: 0.7352 - val_loss: 0.7924 - val_accuracy: 0.7082\n",
      "Epoch 17/25\n",
      "133/133 [==============================] - 99s 748ms/step - loss: 0.7007 - accuracy: 0.7288 - val_loss: 0.7800 - val_accuracy: 0.7143\n",
      "Epoch 18/25\n",
      "133/133 [==============================] - 100s 749ms/step - loss: 0.6695 - accuracy: 0.7440 - val_loss: 0.7572 - val_accuracy: 0.7192\n",
      "Epoch 19/25\n",
      "133/133 [==============================] - 99s 747ms/step - loss: 0.6709 - accuracy: 0.7584 - val_loss: 0.8633 - val_accuracy: 0.7010\n",
      "Epoch 20/25\n",
      "133/133 [==============================] - 99s 743ms/step - loss: 0.6619 - accuracy: 0.7532 - val_loss: 0.7825 - val_accuracy: 0.7126\n",
      "Epoch 21/25\n",
      "133/133 [==============================] - 99s 748ms/step - loss: 0.6655 - accuracy: 0.7518 - val_loss: 0.7600 - val_accuracy: 0.7231\n",
      "Epoch 22/25\n",
      "133/133 [==============================] - 99s 748ms/step - loss: 0.6320 - accuracy: 0.7610 - val_loss: 0.7226 - val_accuracy: 0.7391\n",
      "Epoch 23/25\n",
      "133/133 [==============================] - 99s 746ms/step - loss: 0.6393 - accuracy: 0.7617 - val_loss: 0.8486 - val_accuracy: 0.6955\n",
      "Epoch 24/25\n",
      "133/133 [==============================] - 100s 749ms/step - loss: 0.6243 - accuracy: 0.7714 - val_loss: 0.7770 - val_accuracy: 0.7055\n",
      "Epoch 25/25\n",
      "133/133 [==============================] - 99s 744ms/step - loss: 0.6279 - accuracy: 0.7700 - val_loss: 0.7325 - val_accuracy: 0.7253\n"
     ]
    }
   ],
   "source": [
    "history = model.fit(X_train, Y_train, epochs=25, batch_size=32, validation_data=(X_val, Y_val))"
   ]
  },
  {
   "cell_type": "code",
   "execution_count": 16,
   "id": "362b8ff1",
   "metadata": {},
   "outputs": [
    {
     "name": "stdout",
     "output_type": "stream",
     "text": [
      "81/81 [==============================] - 13s 158ms/step - loss: 0.6687 - accuracy: 0.7457\n",
      "Test Accuracy: 74.57%\n"
     ]
    }
   ],
   "source": [
    "print(\"Test Accuracy: {0:.2f}%\".format(model.evaluate(X_test,Y_test)[1]*100))"
   ]
  },
  {
   "cell_type": "code",
   "execution_count": 17,
   "id": "d9ec7056",
   "metadata": {},
   "outputs": [],
   "source": [
    "model.save_weights('Assignment_3_Weights.h5')"
   ]
  },
  {
   "cell_type": "code",
   "execution_count": 18,
   "id": "6cc0fce3",
   "metadata": {},
   "outputs": [
    {
     "data": {
      "image/png": "[encoded data removed]",
      "text/plain": [
       "<Figure size 432x288 with 1 Axes>"
      ]
     },
     "metadata": {
      "needs_background": "light"
     },
     "output_type": "display_data"
    }
   ],
   "source": [
    "plt.plot(history.history['loss'])\n",
    "plt.plot(history.history['val_loss'])\n",
    "plt.title('Model Loss')\n",
    "plt.ylabel('Loss')\n",
    "plt.xlabel('Epochs')\n",
    "plt.legend(['train', 'test'])\n",
    "plt.show()"
   ]
  },
  {
   "cell_type": "code",
   "execution_count": 19,
   "id": "701ebafa",
   "metadata": {},
   "outputs": [
    {
     "data": {
      "image/png": "[encoded data removed]",
      "text/plain": [
       "<Figure size 432x288 with 1 Axes>"
      ]
     },
     "metadata": {
      "needs_background": "light"
     },
     "output_type": "display_data"
    }
   ],
   "source": [
    "plt.plot(history.history['accuracy'])\n",
    "plt.plot(history.history['val_accuracy'])\n",
    "plt.title('Model Accuracy')\n",
    "plt.ylabel('Accuracy')\n",
    "plt.xlabel('Epochs')\n",
    "plt.legend(['train', 'test'])\n",
    "plt.show()"
   ]
  }
 ],
 "metadata": {
  "kernelspec": {
   "display_name": "Python 3.9.13 64-bit (microsoft store)",
   "language": "python",
   "name": "python3"
  },
  "language_info": {
   "codemirror_mode": {
    "name": "ipython",
    "version": 3
   },
   "file_extension": ".py",
   "mimetype": "text/x-python",
   "name": "python",
   "nbconvert_exporter": "python",
   "pygments_lexer": "ipython3",
   "version": "3.9.13"
  },
  "vscode": {
   "interpreter": {
    "hash": "a9f3aea76ab17a63d2e256a828de3d6b456c5a54ef7eed49523fd7de7d63084d"
   }
  }
 },
 "nbformat": 4,
 "nbformat_minor": 5
}
